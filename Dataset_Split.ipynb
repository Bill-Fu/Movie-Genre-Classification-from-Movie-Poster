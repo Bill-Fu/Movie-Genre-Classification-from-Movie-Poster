{
 "cells": [
  {
   "cell_type": "markdown",
   "metadata": {},
   "source": [
    "This code is for dataset split.\n",
    "\n",
    "We split the whole dataset into three parts: train(70%), validation(5%), test(25%)"
   ]
  },
  {
   "cell_type": "code",
   "execution_count": 2,
   "metadata": {},
   "outputs": [],
   "source": [
    "import subprocess\n",
    "import os\n",
    "import sys\n",
    "\n",
    "import random\n",
    "\n",
    "train = []\n",
    "validation = []\n",
    "test = []\n",
    "\n",
    "root = \"/home/hao/CVR/project/posters\"\n",
    "train_root = \"/home/ubuntu/notebooks/dataset/train\"\n",
    "validation_root = \"/home/ubuntu/notebooks/dataset/validation\"\n",
    "test_root = \"/home/ubuntu/notebooks/dataset/test\"\n",
    "\n",
    "for img in os.listdir(root):\n",
    "    split = random.random()\n",
    "    if split <= 0.7:\n",
    "        train.append(img)\n",
    "    elif split >= 0.75:\n",
    "        test.append(img)\n",
    "    else:\n",
    "        validation.append(img)\n"
   ]
  },
  {
   "cell_type": "code",
   "execution_count": 3,
   "metadata": {},
   "outputs": [
    {
     "name": "stdout",
     "output_type": "stream",
     "text": [
      "27595\n",
      "2003\n",
      "9917\n"
     ]
    }
   ],
   "source": [
    "print len(train)\n",
    "print len(validation)\n",
    "print len(test)"
   ]
  },
  {
   "cell_type": "code",
   "execution_count": 4,
   "metadata": {},
   "outputs": [
    {
     "name": "stdout",
     "output_type": "stream",
     "text": [
      "1714866.jpg\n"
     ]
    }
   ],
   "source": [
    "print train[0]"
   ]
  }
 ],
 "metadata": {
  "kernelspec": {
   "display_name": "Python 2",
   "language": "python",
   "name": "python2"
  },
  "language_info": {
   "codemirror_mode": {
    "name": "ipython",
    "version": 2
   },
   "file_extension": ".py",
   "mimetype": "text/x-python",
   "name": "python",
   "nbconvert_exporter": "python",
   "pygments_lexer": "ipython2",
   "version": "2.7.13"
  }
 },
 "nbformat": 4,
 "nbformat_minor": 2
}
