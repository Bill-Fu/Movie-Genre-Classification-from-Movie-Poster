{
 "cells": [
  {
   "cell_type": "markdown",
   "metadata": {},
   "source": [
    "This code is for dataset split.\n",
    "\n",
    "We split the whole dataset into three parts: train(70%), validation(5%), test(25%)"
   ]
  },
  {
   "cell_type": "code",
   "execution_count": 1,
   "metadata": {},
   "outputs": [],
   "source": [
    "import subprocess\n",
    "import os\n",
    "import sys\n",
    "\n",
    "import random\n",
    "\n",
    "train = []\n",
    "validation = []\n",
    "test = []\n",
    "\n",
    "root = \"/home/ubuntu/notebooks/posters\"\n",
    "train_root = \"/home/ubuntu/notebooks/dataset/train\"\n",
    "validation_root = \"/home/ubuntu/notebooks/dataset/validation\"\n",
    "test_root = \"/home/ubuntu/notebooks/dataset/test\"\n",
    "\n",
    "for img in os.listdir(root):\n",
    "    split = random.random()\n",
    "    if split <= 0.7:\n",
    "        train.append(img)\n",
    "    elif split >= 0.75:\n",
    "        test.append(img)\n",
    "    else:\n",
    "        validation.append(img)\n"
   ]
  },
  {
   "cell_type": "code",
   "execution_count": 2,
   "metadata": {},
   "outputs": [
    {
     "name": "stdout",
     "output_type": "stream",
     "text": [
      "27682\n",
      "1937\n",
      "9896\n"
     ]
    }
   ],
   "source": [
    "print len(train)\n",
    "print len(validation)\n",
    "print len(test)"
   ]
  },
  {
   "cell_type": "code",
   "execution_count": 3,
   "metadata": {},
   "outputs": [
    {
     "name": "stdout",
     "output_type": "stream",
     "text": [
      "365880.jpg\n"
     ]
    }
   ],
   "source": [
    "print train[0]"
   ]
  },
  {
   "cell_type": "code",
   "execution_count": 5,
   "metadata": {},
   "outputs": [],
   "source": [
    "for img in train:\n",
    "    subprocess.call([\"cp\", os.path.join(root, img), train_root])\n",
    "    \n",
    "for img in validation:\n",
    "    subprocess.call([\"cp\", os.path.join(root, img), validation_root])\n",
    "    \n",
    "for img in test:\n",
    "    subprocess.call([\"cp\", os.path.join(root, img), test_root])"
   ]
  }
 ],
 "metadata": {
  "kernelspec": {
   "display_name": "Python 2",
   "language": "python",
   "name": "python2"
  },
  "language_info": {
   "codemirror_mode": {
    "name": "ipython",
    "version": 2
   },
   "file_extension": ".py",
   "mimetype": "text/x-python",
   "name": "python",
   "nbconvert_exporter": "python",
   "pygments_lexer": "ipython2",
   "version": "2.7.12"
  }
 },
 "nbformat": 4,
 "nbformat_minor": 2
}
