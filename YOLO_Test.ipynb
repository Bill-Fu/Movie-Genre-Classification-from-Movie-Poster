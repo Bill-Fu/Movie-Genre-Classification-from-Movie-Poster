{
 "cells": [
  {
   "cell_type": "markdown",
   "metadata": {
    "collapsed": true
   },
   "source": [
    "First we should use YOLO to detect the objects in every image."
   ]
  },
  {
   "cell_type": "code",
   "execution_count": 1,
   "metadata": {},
   "outputs": [
    {
     "name": "stdout",
     "output_type": "stream",
     "text": [
      "80\n"
     ]
    }
   ],
   "source": [
    "import subprocess\n",
    "\n",
    "# Object Label Define\n",
    "classes = [\"person\", \"umbrella\", \"tie\", \"backpack\", \"handbag\", \"suitcase\",\n",
    "           \"bicycle\", \"motorcycle\", \"bus\", \"truck\", \"car\", \"airplane\", \"train\", \"boat\",\n",
    "           \"traffic light\", \"stop sign\", \"bench\", \"fire hydrant\", \"parking meter\",\n",
    "           \"bird\", \"dog\", \"sheep\", \"elephant\", \"zebra\", \"cat\", \"horse\", \"cow\", \"bear\", \"giraffe\",\n",
    "           \"frisbee\", \"snowboard\", \"kite\", \"baseball glove\", \"surfboard\", \"skis\", \"sports ball\", \"baseball bat\", \"skateboard\", \"tennis racket\",\n",
    "           \"bottle\", \"cup\", \"knife\", \"bowl\", \"wine glass\", \"fork\", \"spoon\", \n",
    "           \"banana\", \"sandwich\", \"broccoli\", \"hot dog\", \"donut\", \"apple\", \"orange\", \"carrot\", \"pizza\", \"cake\",\n",
    "           \"chair\", \"potted plant\", \"dining table\", \"couch\", \"bed\", \"toilet\",\n",
    "           \"tv\", \"mouse\", \"keyboard\", \"laptop\", \"remote\", \"cell phone\",\n",
    "           \"microwave\", \"toaster\", \"refrigerator\", \"oven\", \"sink\",\n",
    "           \"book\", \"vase\", \"teddy bear\", \"toothbrush\", \"clock\", \"scissors\", \"hair direr\"]\n",
    "\n"
   ]
  }
 ],
 "metadata": {
  "kernelspec": {
   "display_name": "Python 2",
   "language": "python",
   "name": "python2"
  },
  "language_info": {
   "codemirror_mode": {
    "name": "ipython",
    "version": 2
   },
   "file_extension": ".py",
   "mimetype": "text/x-python",
   "name": "python",
   "nbconvert_exporter": "python",
   "pygments_lexer": "ipython2",
   "version": "2.7.13"
  }
 },
 "nbformat": 4,
 "nbformat_minor": 2
}
