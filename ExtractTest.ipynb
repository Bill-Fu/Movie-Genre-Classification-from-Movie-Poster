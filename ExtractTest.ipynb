{
 "cells": [
  {
   "cell_type": "code",
   "execution_count": null,
   "metadata": {
    "collapsed": true
   },
   "outputs": [],
   "source": [
    "#extract test dataset\n",
    "Test_Movies = []\n",
    "count -=1\n",
    "for i in range(count):\n",
    "    length = len(Genre_Movies[i])\n",
    "    Test_Movies.append([])\n",
    "    for j in range(int(length/4)):\n",
    "        a = random.sample(Genre_Movies[i],1)\n",
    "        Genre_Movies[i].remove(a[0])\n",
    "        Test_Movies[i].append(a)"
   ]
  }
 ],
 "metadata": {
  "kernelspec": {
   "display_name": "Python 2",
   "language": "python",
   "name": "python2"
  },
  "language_info": {
   "codemirror_mode": {
    "name": "ipython",
    "version": 2
   },
   "file_extension": ".py",
   "mimetype": "text/x-python",
   "name": "python",
   "nbconvert_exporter": "python",
   "pygments_lexer": "ipython2",
   "version": "2.7.13"
  }
 },
 "nbformat": 4,
 "nbformat_minor": 2
}
